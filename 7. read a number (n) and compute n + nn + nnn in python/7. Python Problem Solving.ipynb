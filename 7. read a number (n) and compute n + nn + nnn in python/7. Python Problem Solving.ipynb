{
 "cells": [
  {
   "cell_type": "markdown",
   "id": "a643ffde-77b3-43f5-a2f5-118151f43ef2",
   "metadata": {},
   "source": [
    "**Python Problem Solving**\r\n",
    "\r\n",
    "\r\n",
    "---\r\n",
    "\r\n",
    "\r\n",
    "7. How to read a number (n) and compute n + nn + nnn in python"
   ]
  },
  {
   "cell_type": "code",
   "execution_count": 10,
   "id": "fa35fa95-39f5-4302-b81d-f09710359e85",
   "metadata": {},
   "outputs": [
    {
     "name": "stdin",
     "output_type": "stream",
     "text": [
      "Input an integer:  5\n"
     ]
    },
    {
     "name": "stdout",
     "output_type": "stream",
     "text": [
      "615\n"
     ]
    }
   ],
   "source": [
    "a = int(input(\"Input an integer: \"))\n",
    "n1 = int(\" %s\" % a)\n",
    "n2 = int(\"%s%s\" % (a, a))\n",
    "n3 = int(\"%s%s%s\" % (a, a, a))\n",
    "\n",
    "print(n1 + n2 + n3)"
   ]
  },
  {
   "cell_type": "markdown",
   "id": "873a4c75-0bf6-4733-b98d-fd24f63948ca",
   "metadata": {},
   "source": [
    "# Explaination:\n",
    "\n",
    "1. a = int(input(\"Input an integer: \"))\r\n",
    "This line takes an integer input from the user and stores it in variable a.\r\n",
    "\r\n",
    "For example, if the user inputs 5, then a =\n",
    "\n",
    "2. n1 = int(\" %s\" % a)\r\n",
    "This line is a bit unusual due to the extra space. \" %s\" means format a as a string, but it puts a space before the number.\r\n",
    "\r\n",
    "So, \" %s\" % a becomes \" 5\" (a string with a space before 5).\r\n",
    "\r\n",
    "Then it's converted back to an integer using int(), and Python will ignore the space: int(\" 5\") becomes 5.\r\n",
    "\r\n",
    "Thus, \n",
    "\n",
    "3. n2 = int(\"%s%s\" % (a, a))\r\n",
    "Here, \"%s%s\" % (a, a) combines a and a as strings.\r\n",
    "\r\n",
    "If a = 5, then this becomes \"55\" as a string.\r\n",
    "\r\n",
    "int(\"55\") converts the string to an integer, so n2 \n",
    "\n",
    "4. n3 = int(\"%s%s%s\" % (a, a, a))\r\n",
    "Similarly, this combines three copies of a as a string.\r\n",
    "\r\n",
    "If a = 5, then it becomes \"555\", and n3 = 5\n",
    "\n",
    "5. print(n1 + n2 + n3)\r\n",
    "Adds all three integers: 5 + 55 + 555 = 615, and prints the result..\r\n",
    "\r\n",
    "55.\r\n",
    "\r\n",
    "n1 = 5. 5."
   ]
  },
  {
   "cell_type": "code",
   "execution_count": null,
   "id": "3aa78d7a-bdca-4954-9bcf-d40ace277ed8",
   "metadata": {},
   "outputs": [],
   "source": []
  }
 ],
 "metadata": {
  "kernelspec": {
   "display_name": "Python 3 (ipykernel)",
   "language": "python",
   "name": "python3"
  },
  "language_info": {
   "codemirror_mode": {
    "name": "ipython",
    "version": 3
   },
   "file_extension": ".py",
   "mimetype": "text/x-python",
   "name": "python",
   "nbconvert_exporter": "python",
   "pygments_lexer": "ipython3",
   "version": "3.12.4"
  }
 },
 "nbformat": 4,
 "nbformat_minor": 5
}
