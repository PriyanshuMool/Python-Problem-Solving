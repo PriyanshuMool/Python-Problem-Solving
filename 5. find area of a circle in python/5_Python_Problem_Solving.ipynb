{
  "nbformat": 4,
  "nbformat_minor": 0,
  "metadata": {
    "colab": {
      "provenance": []
    },
    "kernelspec": {
      "name": "python3",
      "display_name": "Python 3"
    },
    "language_info": {
      "name": "python"
    }
  },
  "cells": [
    {
      "cell_type": "markdown",
      "source": [
        "**Python Problem Solving**\n",
        "\n",
        "\n",
        "---\n",
        "\n",
        "\n",
        "5. How to find area of a circle in python."
      ],
      "metadata": {
        "id": "pZ3N_44-N5cZ"
      }
    },
    {
      "cell_type": "code",
      "execution_count": 1,
      "metadata": {
        "id": "OllSoyCQNpxY"
      },
      "outputs": [],
      "source": [
        "from math import pi"
      ]
    },
    {
      "cell_type": "code",
      "source": [
        "# By for loop:\n",
        "r = int(input(\"Enter the radius of the circle: \"))\n",
        "for i in range(1):\n",
        "  print(f'area of circle is {pi * r**2}')"
      ],
      "metadata": {
        "colab": {
          "base_uri": "https://localhost:8080/"
        },
        "id": "9TYxtp5-O520",
        "outputId": "f3d6aa16-7af8-457b-c3f6-930f0f867bb7"
      },
      "execution_count": 9,
      "outputs": [
        {
          "output_type": "stream",
          "name": "stdout",
          "text": [
            "Enter the radius of the circle: 2\n",
            "area of circle is 12.566370614359172\n"
          ]
        }
      ]
    },
    {
      "cell_type": "code",
      "source": [
        "# By defining a formula\n",
        "def area_of_circle(r):\n",
        "  pi * r**2\n",
        "  print(f'area of circle is {pi * r**2}')"
      ],
      "metadata": {
        "id": "8EM5HSnaPlOl"
      },
      "execution_count": 12,
      "outputs": []
    },
    {
      "cell_type": "code",
      "source": [
        "area_of_circle(2)"
      ],
      "metadata": {
        "colab": {
          "base_uri": "https://localhost:8080/"
        },
        "id": "qiTLtgD0QIli",
        "outputId": "66354fb7-8c88-4891-c926-0062420757d0"
      },
      "execution_count": 13,
      "outputs": [
        {
          "output_type": "stream",
          "name": "stdout",
          "text": [
            "area of circle is 12.566370614359172\n"
          ]
        }
      ]
    },
    {
      "cell_type": "code",
      "source": [
        "area_of_circle(5)"
      ],
      "metadata": {
        "colab": {
          "base_uri": "https://localhost:8080/"
        },
        "id": "LlX1R4pbQK4d",
        "outputId": "69b322a1-0eaf-45cc-dbb8-ccf532368d2f"
      },
      "execution_count": 14,
      "outputs": [
        {
          "output_type": "stream",
          "name": "stdout",
          "text": [
            "area of circle is 78.53981633974483\n"
          ]
        }
      ]
    },
    {
      "cell_type": "code",
      "source": [],
      "metadata": {
        "id": "NuGmPzLcQRUb"
      },
      "execution_count": null,
      "outputs": []
    }
  ]
}