{
  "nbformat": 4,
  "nbformat_minor": 0,
  "metadata": {
    "colab": {
      "provenance": []
    },
    "kernelspec": {
      "name": "python3",
      "display_name": "Python 3"
    },
    "language_info": {
      "name": "python"
    }
  },
  "cells": [
    {
      "cell_type": "markdown",
      "source": [
        "**Python Problem Solving**\n",
        "\n",
        "\n",
        "---\n",
        "\n",
        "\n",
        "8. How to calculate number of days between two dates in python"
      ],
      "metadata": {
        "id": "L068amFk93fG"
      }
    },
    {
      "cell_type": "code",
      "execution_count": null,
      "metadata": {
        "id": "TXirkjg79teF"
      },
      "outputs": [],
      "source": [
        "from datetime import datetime"
      ]
    },
    {
      "cell_type": "code",
      "source": [
        "# Take input from user\n",
        "date_str1 = input(\"Enter the first date (YYYY-MM-DD): \")\n",
        "date_str2 = input(\"Enter the second date (YYYY-MM-DD): \")\n",
        "\n",
        "# Convert the strings to datetime objects\n",
        "date_1 = datetime.strptime(date_str1, \"%Y-%m-%d\")\n",
        "date_2 = datetime.strptime(date_str2, \"%Y-%m-%d\")\n",
        "\n",
        "# Calculate the difference\n",
        "difference = abs((date_1 - date_2).days)\n",
        "\n",
        "print(f\"Number of days between first date and second date is {difference}\")"
      ],
      "metadata": {
        "colab": {
          "base_uri": "https://localhost:8080/"
        },
        "id": "JwK4Pinu-L8X",
        "outputId": "8a12d69b-baf1-4932-bfb3-fd7e4d230a28"
      },
      "execution_count": null,
      "outputs": [
        {
          "output_type": "stream",
          "name": "stdout",
          "text": [
            "Enter the first date (YYYY-MM-DD): 2025-01-10\n",
            "Enter the second date (YYYY-MM-DD): 2025-01-01\n",
            "Number of days between first date and second date is 9\n"
          ]
        }
      ]
    },
    {
      "cell_type": "markdown",
      "source": [
        "# Explanation:\n",
        "1. from datetime import datetime\n",
        "This imports the datetime class from Python's built-in datetime module.\n",
        "The datetime class allows you to work with dates and times.\n",
        "\n",
        "2. The input lines prompt the user to enter two dates.\n",
        "The input format expected is YYYY-MM-DD (like 2025-06-10).\n",
        "The inputs are stored as strings in date_str1 and date_str2.\n",
        "\n",
        "3. strptime() is a method that parses a string into a datetime object.\n",
        "\"%Y-%m-%d\" tells Python the format of\n",
        "the input string:\n",
        "%Y = 4-digit year (e.g., 2025)\n",
        "%m = 2-digit month (e.g., 06)\n",
        "%d = 2-digit day (e.g., 10)\n",
        "So now date1 and date2 are actual date objects, not just strings.\n",
        "\n",
        "4. difference = abs((date1 - date2).days)\n",
        "You subtract one datetime object from another → this gives a timedelta object.\n",
        ".days extracts the number of days as an integer.\n",
        "abs() ensures the result is always positive, no matter which date comes first."
      ],
      "metadata": {
        "id": "PKe7LHBYAHsQ"
      }
    },
    {
      "cell_type": "code",
      "source": [],
      "metadata": {
        "id": "6JFMSRwm_zzf"
      },
      "execution_count": null,
      "outputs": []
    }
  ]
}