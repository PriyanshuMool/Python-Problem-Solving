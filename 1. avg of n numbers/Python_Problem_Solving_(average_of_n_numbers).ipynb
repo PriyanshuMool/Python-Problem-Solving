{
  "nbformat": 4,
  "nbformat_minor": 0,
  "metadata": {
    "colab": {
      "provenance": []
    },
    "kernelspec": {
      "name": "python3",
      "display_name": "Python 3"
    },
    "language_info": {
      "name": "python"
    }
  },
  "cells": [
    {
      "cell_type": "markdown",
      "source": [
        "**Python Problem Solving**\n",
        "\n",
        "\n",
        "---\n",
        "\n",
        "\n",
        "How to find average of n numbers"
      ],
      "metadata": {
        "id": "YMZ0-DM2mKme"
      }
    },
    {
      "cell_type": "code",
      "source": [
        "num = int(input('How many numbers: ?')) #Takes input from user, how amny numbers are there (denominator)\n",
        "total_sum = 0\n",
        "\n",
        "for n in range(num):\n",
        "  numbers = float(input('Enter any number: ')) #Takes input from user, what numbers there are (each)\n",
        "  total_sum = total_sum + numbers #Keeps no adding till the total number of numbers equals to the numbers specified by user in 1st step\n",
        "\n",
        "average = total_sum / num\n",
        "print(f'Average of, {num}, numbers is, {average}')"
      ],
      "metadata": {
        "colab": {
          "base_uri": "https://localhost:8080/"
        },
        "id": "pZDjoghhmn4v",
        "outputId": "6a5bc744-332f-421c-e5bc-7b3c412d1231"
      },
      "execution_count": 3,
      "outputs": [
        {
          "output_type": "stream",
          "name": "stdout",
          "text": [
            "How many numbers: ?6\n",
            "Enter any number: 1\n",
            "Enter any number: 2\n",
            "Enter any number: 3\n",
            "Enter any number: 4\n",
            "Enter any number: 5\n",
            "Enter any number: 6\n",
            "Average of, 6, numbers is, 3.5\n"
          ]
        }
      ]
    },
    {
      "cell_type": "code",
      "source": [],
      "metadata": {
        "id": "6yXEZw7-oY0x"
      },
      "execution_count": null,
      "outputs": []
    }
  ]
}