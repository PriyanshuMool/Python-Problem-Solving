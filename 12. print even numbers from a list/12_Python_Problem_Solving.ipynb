{
  "nbformat": 4,
  "nbformat_minor": 0,
  "metadata": {
    "colab": {
      "provenance": []
    },
    "kernelspec": {
      "name": "python3",
      "display_name": "Python 3"
    },
    "language_info": {
      "name": "python"
    }
  },
  "cells": [
    {
      "cell_type": "markdown",
      "source": [
        "**Python Problem Solving**\n",
        "\n",
        "\n",
        "---\n",
        "\n",
        "\n",
        "12. How to print even numbers in the given range in python."
      ],
      "metadata": {
        "id": "W_1xaNf33xSc"
      }
    },
    {
      "cell_type": "code",
      "execution_count": 1,
      "metadata": {
        "colab": {
          "base_uri": "https://localhost:8080/"
        },
        "id": "2NLlu2J-244k",
        "outputId": "3a43e490-f994-4991-f2e0-167bb9bedbcb"
      },
      "outputs": [
        {
          "output_type": "stream",
          "name": "stdout",
          "text": [
            "2\n",
            "4\n",
            "6\n",
            "8\n",
            "10\n",
            "12\n",
            "64\n",
            "24\n",
            "98\n"
          ]
        }
      ],
      "source": [
        "num_list = [1, 2, 3, 4, 5, 6, 7, 8, 9, 10, 11, 12, 55, 64, 24, 98, 65, 13]\n",
        "\n",
        "for x in num_list:\n",
        "  if x % 2 == 0:\n",
        "    print(x)"
      ]
    },
    {
      "cell_type": "code",
      "source": [
        "# Taking input list from user\n",
        "\n",
        "# Prompt the user to enter numbers separated by spaces\n",
        "num_list_1 = list(map(float, input(\"Enter the numbers separated by space: \").split()))\n",
        "\n",
        "# Check if all items are digits (and handle negatives too)\n",
        "numbers = []\n",
        "invalid = False\n",
        "\n",
        "for item in num_list_1:\n",
        "    try:\n",
        "        number = float(item)  # try to convert to float\n",
        "        numbers.append(number)\n",
        "    except ValueError:\n",
        "        invalid = True\n",
        "        break\n",
        "\n",
        "if invalid:\n",
        "    print(\"Invalid input! Please enter only numbers (integers or floats).\")\n",
        "else:\n",
        "    print(\"You entered valid numbers:\", numbers)"
      ],
      "metadata": {
        "colab": {
          "base_uri": "https://localhost:8080/"
        },
        "id": "Kbr5bSRj4eiB",
        "outputId": "d086a9f3-bb96-4e0a-a337-e554ec17d19a"
      },
      "execution_count": 4,
      "outputs": [
        {
          "output_type": "stream",
          "name": "stdout",
          "text": [
            "Enter the numbers separated by space: 10 2 5 4 6 8 9 4 4\n",
            "You entered valid numbers: [10.0, 2.0, 5.0, 4.0, 6.0, 8.0, 9.0, 4.0, 4.0]\n"
          ]
        }
      ]
    },
    {
      "cell_type": "code",
      "source": [
        "for m in num_list_1:\n",
        "  if m % 2 == 0:\n",
        "    print(m)"
      ],
      "metadata": {
        "colab": {
          "base_uri": "https://localhost:8080/"
        },
        "id": "3BiUWyFU6cB3",
        "outputId": "7b5d7a93-be9c-4ce7-d46b-918f03bb3884"
      },
      "execution_count": 5,
      "outputs": [
        {
          "output_type": "stream",
          "name": "stdout",
          "text": [
            "10.0\n",
            "2.0\n",
            "4.0\n",
            "6.0\n",
            "8.0\n",
            "4.0\n",
            "4.0\n"
          ]
        }
      ]
    },
    {
      "cell_type": "code",
      "source": [],
      "metadata": {
        "id": "KcaU7TbJ7JUU"
      },
      "execution_count": null,
      "outputs": []
    }
  ]
}