{
  "nbformat": 4,
  "nbformat_minor": 0,
  "metadata": {
    "colab": {
      "provenance": []
    },
    "kernelspec": {
      "name": "python3",
      "display_name": "Python 3"
    },
    "language_info": {
      "name": "python"
    }
  },
  "cells": [
    {
      "cell_type": "markdown",
      "source": [
        "**Python Problem Solving**\n",
        "\n",
        "\n",
        "---\n",
        "\n",
        "\n",
        "10. How to find volume and surface area of sphere in python."
      ],
      "metadata": {
        "id": "OgKv4bXFzlAy"
      }
    },
    {
      "cell_type": "code",
      "source": [
        "from math import pi"
      ],
      "metadata": {
        "id": "qPVtZKau0HwA"
      },
      "execution_count": 1,
      "outputs": []
    },
    {
      "cell_type": "markdown",
      "source": [
        "# Method 1: Using loops"
      ],
      "metadata": {
        "id": "3DUVhXF-0_mx"
      }
    },
    {
      "cell_type": "code",
      "execution_count": 4,
      "metadata": {
        "colab": {
          "base_uri": "https://localhost:8080/"
        },
        "id": "maEQrs_MzQzo",
        "outputId": "7b5247a6-40f5-414c-8c6a-d668768647be"
      },
      "outputs": [
        {
          "output_type": "stream",
          "name": "stdout",
          "text": [
            "Enter the radius of the sphere: 2\n",
            "The volume of the sphere is 33.510321638291124 units.\n",
            "The surface area of the sphere is 50.26548245743669 units.\n"
          ]
        }
      ],
      "source": [
        "r = int(input(\"Enter the radius of the sphere: \"))\n",
        "\n",
        "for i in range(1):\n",
        "  volume = 4/3 * pi * r**3\n",
        "  surface_area = 4 * pi * r**2\n",
        "\n",
        "  print(f\"The volume of the sphere is {volume} units.\")\n",
        "  print(f\"The surface area of the sphere is {surface_area} units.\")"
      ]
    },
    {
      "cell_type": "markdown",
      "source": [
        "#Method 2: Defining a formula"
      ],
      "metadata": {
        "id": "c9iRMwkO1DSC"
      }
    },
    {
      "cell_type": "code",
      "source": [
        "def circle(r):\n",
        "  volume = 4/3 * pi * r**3\n",
        "  surface_area = 4 * pi * r**2\n",
        "\n",
        "  print(f\"The volume of the sphere is {volume} units.\")\n",
        "  print(f\"The surface area of the sphere is {surface_area} units.\")"
      ],
      "metadata": {
        "id": "9uSXQI1_0o4a"
      },
      "execution_count": 7,
      "outputs": []
    },
    {
      "cell_type": "code",
      "source": [
        "circle(2)"
      ],
      "metadata": {
        "colab": {
          "base_uri": "https://localhost:8080/"
        },
        "id": "Dlye52Il1To1",
        "outputId": "a28a1963-b622-4f70-f87f-e28c9a0e5d96"
      },
      "execution_count": 8,
      "outputs": [
        {
          "output_type": "stream",
          "name": "stdout",
          "text": [
            "The volume of the sphere is 33.510321638291124 units.\n",
            "The surface area of the sphere is 50.26548245743669 units.\n"
          ]
        }
      ]
    },
    {
      "cell_type": "code",
      "source": [],
      "metadata": {
        "id": "3SMu2qf61V6h"
      },
      "execution_count": null,
      "outputs": []
    }
  ]
}