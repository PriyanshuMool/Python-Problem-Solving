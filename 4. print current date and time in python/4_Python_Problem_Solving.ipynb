{
  "nbformat": 4,
  "nbformat_minor": 0,
  "metadata": {
    "colab": {
      "provenance": []
    },
    "kernelspec": {
      "name": "python3",
      "display_name": "Python 3"
    },
    "language_info": {
      "name": "python"
    }
  },
  "cells": [
    {
      "cell_type": "markdown",
      "source": [
        "**Python Problem Solving**\n",
        "\n",
        "\n",
        "---\n",
        "\n",
        "\n",
        "4. How to print current date and time in python"
      ],
      "metadata": {
        "id": "t5NsoNUiLqoJ"
      }
    },
    {
      "cell_type": "code",
      "source": [
        "import datetime"
      ],
      "metadata": {
        "id": "L9sT8SIAMxtO"
      },
      "execution_count": 6,
      "outputs": []
    },
    {
      "cell_type": "code",
      "source": [
        "now = datetime.datetime.now()\n",
        "print(f'Current date and time is: {now.strftime(\"%y-%m-%d %H:%M:%S\")}.')"
      ],
      "metadata": {
        "colab": {
          "base_uri": "https://localhost:8080/"
        },
        "id": "DhXIH5ENM61H",
        "outputId": "249db786-052e-4a31-a62a-2d31e8d6e5ef"
      },
      "execution_count": 9,
      "outputs": [
        {
          "output_type": "stream",
          "name": "stdout",
          "text": [
            "Current date and time is: 25-06-09 15:01:51.\n"
          ]
        }
      ]
    },
    {
      "cell_type": "code",
      "source": [],
      "metadata": {
        "id": "t6n57DODNL8W"
      },
      "execution_count": null,
      "outputs": []
    }
  ]
}