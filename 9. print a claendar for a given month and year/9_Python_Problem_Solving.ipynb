{
  "nbformat": 4,
  "nbformat_minor": 0,
  "metadata": {
    "colab": {
      "provenance": []
    },
    "kernelspec": {
      "name": "python3",
      "display_name": "Python 3"
    },
    "language_info": {
      "name": "python"
    }
  },
  "cells": [
    {
      "cell_type": "markdown",
      "source": [
        "**Python Problem Solving**\n",
        "\n",
        "\n",
        "---\n",
        "\n",
        "\n",
        "9. How to print a calendar for the given month and year in python."
      ],
      "metadata": {
        "id": "l1NnoQICyXLa"
      }
    },
    {
      "cell_type": "code",
      "execution_count": 3,
      "metadata": {
        "id": "DpCOUV8hyQUL"
      },
      "outputs": [],
      "source": [
        "import calendar"
      ]
    },
    {
      "cell_type": "code",
      "source": [
        "y = int(input(\"Enter the year: \"))\n",
        "m = int(input(\"Enter the month: \"))\n",
        "\n",
        "print (calendar.month(y, m))"
      ],
      "metadata": {
        "colab": {
          "base_uri": "https://localhost:8080/"
        },
        "id": "tv9EyPsSylBp",
        "outputId": "832c9b1c-6868-4f91-be34-061f2dcb7ffc"
      },
      "execution_count": 4,
      "outputs": [
        {
          "output_type": "stream",
          "name": "stdout",
          "text": [
            "Enter the year: 2025\n",
            "Enter the month: 01\n",
            "    January 2025\n",
            "Mo Tu We Th Fr Sa Su\n",
            "       1  2  3  4  5\n",
            " 6  7  8  9 10 11 12\n",
            "13 14 15 16 17 18 19\n",
            "20 21 22 23 24 25 26\n",
            "27 28 29 30 31\n",
            "\n"
          ]
        }
      ]
    },
    {
      "cell_type": "code",
      "source": [
        "y = int(input(\"Enter the year: \"))\n",
        "m = int(input(\"Enter the month: \"))\n",
        "\n",
        "print (calendar.month(y, m))"
      ],
      "metadata": {
        "colab": {
          "base_uri": "https://localhost:8080/"
        },
        "id": "EUO3uADNy81l",
        "outputId": "b4b92cf2-fad2-437a-a5c3-f0569784ae5f"
      },
      "execution_count": 5,
      "outputs": [
        {
          "output_type": "stream",
          "name": "stdout",
          "text": [
            "Enter the year: 2003\n",
            "Enter the month: 02\n",
            "   February 2003\n",
            "Mo Tu We Th Fr Sa Su\n",
            "                1  2\n",
            " 3  4  5  6  7  8  9\n",
            "10 11 12 13 14 15 16\n",
            "17 18 19 20 21 22 23\n",
            "24 25 26 27 28\n",
            "\n"
          ]
        }
      ]
    },
    {
      "cell_type": "code",
      "source": [],
      "metadata": {
        "id": "zuYjG2WSzJwu"
      },
      "execution_count": null,
      "outputs": []
    }
  ]
}