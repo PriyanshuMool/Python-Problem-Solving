{
  "nbformat": 4,
  "nbformat_minor": 0,
  "metadata": {
    "colab": {
      "provenance": []
    },
    "kernelspec": {
      "name": "python3",
      "display_name": "Python 3"
    },
    "language_info": {
      "name": "python"
    }
  },
  "cells": [
    {
      "cell_type": "markdown",
      "source": [
        "**Python Problem Solving**\n",
        "\n",
        "\n",
        "---\n",
        "\n",
        "\n",
        "2. Sum of first n positive integers"
      ],
      "metadata": {
        "id": "-GaSfwdQqDa8"
      }
    },
    {
      "cell_type": "code",
      "execution_count": 2,
      "metadata": {
        "colab": {
          "base_uri": "https://localhost:8080/"
        },
        "id": "A_-ZmOzCph3g",
        "outputId": "7c042c13-2a20-4326-a0e1-f15891df7eb1"
      },
      "outputs": [
        {
          "output_type": "stream",
          "name": "stdout",
          "text": [
            "Enter number: 5\n",
            "15.0\n"
          ]
        }
      ],
      "source": [
        "n = int(input('Enter number: '))\n",
        "\n",
        "sum = (n * (n + 1)) / 2\n",
        "print(sum)"
      ]
    },
    {
      "cell_type": "code",
      "source": [],
      "metadata": {
        "id": "lSE_KznCqscP"
      },
      "execution_count": null,
      "outputs": []
    }
  ]
}