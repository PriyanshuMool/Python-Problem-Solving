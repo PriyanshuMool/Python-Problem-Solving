{
  "nbformat": 4,
  "nbformat_minor": 0,
  "metadata": {
    "colab": {
      "provenance": []
    },
    "kernelspec": {
      "name": "python3",
      "display_name": "Python 3"
    },
    "language_info": {
      "name": "python"
    }
  },
  "cells": [
    {
      "cell_type": "markdown",
      "source": [
        "**Python Problem Solving**\n",
        "\n",
        "\n",
        "---\n",
        "\n",
        "\n",
        "6. How to print the first and last name in reverse order in python (reverse a string in python)."
      ],
      "metadata": {
        "id": "FUaUQ6FaQvuT"
      }
    },
    {
      "cell_type": "markdown",
      "source": [
        "# Method 1: By Slicing:\n",
        "Explanation:\n",
        "text [::-1] means:\n",
        "\n",
        "1. Start at the end of the string,\n",
        "\n",
        "2. Go backwards one step at a time,\n",
        "\n",
        "3. Until the beginning."
      ],
      "metadata": {
        "id": "BjVrpMHASUgi"
      }
    },
    {
      "cell_type": "code",
      "execution_count": 2,
      "metadata": {
        "colab": {
          "base_uri": "https://localhost:8080/"
        },
        "id": "wWWLBIIpQgnI",
        "outputId": "c5b73a54-984d-4996-8e30-72bcca7c3016"
      },
      "outputs": [
        {
          "output_type": "stream",
          "name": "stdout",
          "text": [
            "First Name: Luke\n",
            "Last Name: Acer\n",
            "ekuL recA\n"
          ]
        }
      ],
      "source": [
        "first_name = input(\"First Name: \")\n",
        "last_name = input(\"Last Name: \")\n",
        "\n",
        "reversed_text = first_name[::-1] + \" \" + last_name[::-1]\n",
        "print(reversed_text)"
      ]
    },
    {
      "cell_type": "markdown",
      "source": [
        "# Method 2: Using For loop:\n",
        "\n",
        "Line-by-line explanation:\n",
        "1. text = \"hello\"\n",
        "You're assigning the string \"hello\" to the variable text.\n",
        "\n",
        "2. reversed_text = ''\n",
        "You create an empty string to store the reversed version of text.\n",
        "\n",
        "3. for char in text:\n",
        "This loop iterates over each character in the string \"hello\", from left to right.\n",
        "\n",
        "4. reversed_text = char + reversed_text\n",
        "Here's the key step:\n",
        "You add each character to the front of the reversed_text.\n",
        "So the characters build up in reverse order."
      ],
      "metadata": {
        "id": "jDWWgzF6Supb"
      }
    },
    {
      "cell_type": "code",
      "source": [
        "text = \"hello\"\n",
        "reversed_text = ''\n",
        "for char in text:\n",
        "    reversed_text = char + reversed_text\n",
        "print(reversed_text)  # Output: \"olleh\""
      ],
      "metadata": {
        "colab": {
          "base_uri": "https://localhost:8080/"
        },
        "id": "nbea4tZERwyx",
        "outputId": "95ddf601-fdf9-47bd-c0cd-2a304bc6e0f4"
      },
      "execution_count": 4,
      "outputs": [
        {
          "output_type": "stream",
          "name": "stdout",
          "text": [
            "olleh\n"
          ]
        }
      ]
    },
    {
      "cell_type": "code",
      "source": [],
      "metadata": {
        "id": "ye0xL6u2TMqH"
      },
      "execution_count": null,
      "outputs": []
    }
  ]
}