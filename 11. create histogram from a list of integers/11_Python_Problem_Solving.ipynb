{
  "nbformat": 4,
  "nbformat_minor": 0,
  "metadata": {
    "colab": {
      "provenance": []
    },
    "kernelspec": {
      "name": "python3",
      "display_name": "Python 3"
    },
    "language_info": {
      "name": "python"
    }
  },
  "cells": [
    {
      "cell_type": "markdown",
      "source": [
        "**Python Problem Solving**\n",
        "\n",
        "\n",
        "---\n",
        "\n",
        "\n",
        "11. How to create a histogram from a given list of integers in python."
      ],
      "metadata": {
        "id": "62bYgGp_123j"
      }
    },
    {
      "cell_type": "code",
      "execution_count": 1,
      "metadata": {
        "colab": {
          "base_uri": "https://localhost:8080/"
        },
        "id": "KuPscyul1fq0",
        "outputId": "0df8a5ac-38bd-408f-d7b4-512c06852633"
      },
      "outputs": [
        {
          "output_type": "stream",
          "name": "stdout",
          "text": [
            "**\n",
            "*\n",
            "*****\n",
            "******\n",
            "*****\n"
          ]
        }
      ],
      "source": [
        "def histogram(items):\n",
        "  for n in items:\n",
        "    output = ''\n",
        "    times = n\n",
        "    while(times > 0):\n",
        "      output += \"*\"\n",
        "      times = times - 1\n",
        "    print(output)\n",
        "\n",
        "histogram([2, 1, 5, 6, 5])"
      ]
    },
    {
      "cell_type": "code",
      "source": [],
      "metadata": {
        "id": "FfvFbx732onP"
      },
      "execution_count": null,
      "outputs": []
    }
  ]
}