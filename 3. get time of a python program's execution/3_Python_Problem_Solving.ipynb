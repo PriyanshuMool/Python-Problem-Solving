{
  "nbformat": 4,
  "nbformat_minor": 0,
  "metadata": {
    "colab": {
      "provenance": []
    },
    "kernelspec": {
      "name": "python3",
      "display_name": "Python 3"
    },
    "language_info": {
      "name": "python"
    }
  },
  "cells": [
    {
      "cell_type": "markdown",
      "source": [
        "**Python Problem Solving**\n",
        "\n",
        "\n",
        "---\n",
        "\n",
        "\n",
        "3. Get time of a python program's execution"
      ],
      "metadata": {
        "id": "_1U0qSWTlwCP"
      }
    },
    {
      "cell_type": "code",
      "execution_count": 1,
      "metadata": {
        "id": "NADLmM6HltSd"
      },
      "outputs": [],
      "source": [
        "import time # The time module allows you to work with time-related functions."
      ]
    },
    {
      "cell_type": "code",
      "source": [
        "def myFunc():\n",
        "  start_time = time.time() # This captures the current time in seconds. marks the start of the code whose execution time you want to measure.\n",
        "  s = 0 # Initializes a variable s to 0. s will be used to store the sum of the first n natural numbers.\n",
        "  for i in range(1, n + 1): #This starts a for loop that goes from 1 to n inclusive. range(1, n + 1) generates numbers from 1 up to n.\n",
        "    s = s + i #In each iteration of the loop, i is added to s. This computes the sum 1 + 2 + 3 + ... + n.\n",
        "\n",
        "  end_time = time.time() # After the loop finishes, this captures the current time again. It marks the end of the timed code block.\n",
        "  return s, end_time - start_time # The first element is the computed sum s. The second element is the execution time, calculated as end_time - start_time.\n",
        "\n",
        "n = 5 # Sets the value of n to 5. So the function will sum the numbers from 1 to 5 (i.e., 1 + 2 + 3 + 4 + 5 = 15).\n",
        "print(myFunc()) # This calls the myFunc() function. It prints the returned tuple: the sum and the time taken to compute it."
      ],
      "metadata": {
        "colab": {
          "base_uri": "https://localhost:8080/"
        },
        "id": "iiplT4VPl-ll",
        "outputId": "9788824d-db37-4372-c8b0-156ce6ef3104"
      },
      "execution_count": 6,
      "outputs": [
        {
          "output_type": "stream",
          "name": "stdout",
          "text": [
            "(15, 2.6226043701171875e-06)\n"
          ]
        }
      ]
    },
    {
      "cell_type": "code",
      "source": [],
      "metadata": {
        "id": "tbTXsiulmZF-"
      },
      "execution_count": 3,
      "outputs": []
    }
  ]
}